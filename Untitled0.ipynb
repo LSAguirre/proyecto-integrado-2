{
  "nbformat": 4,
  "nbformat_minor": 0,
  "metadata": {
    "colab": {
      "provenance": [],
      "authorship_tag": "ABX9TyM6pqGdDUezcExtjHvhI5nh",
      "include_colab_link": true
    },
    "kernelspec": {
      "name": "python3",
      "display_name": "Python 3"
    },
    "language_info": {
      "name": "python"
    }
  },
  "cells": [
    {
      "cell_type": "markdown",
      "metadata": {
        "id": "view-in-github",
        "colab_type": "text"
      },
      "source": [
        "<a href=\"https://colab.research.google.com/github/LSAguirre/proyecto-integrado-2/blob/main/Untitled0.ipynb\" target=\"_parent\"><img src=\"https://colab.research.google.com/assets/colab-badge.svg\" alt=\"Open In Colab\"/></a>"
      ]
    },
    {
      "cell_type": "code",
      "execution_count": 1,
      "metadata": {
        "colab": {
          "base_uri": "https://localhost:8080/"
        },
        "id": "_JCSBCE3qYFR",
        "outputId": "7236043d-9d59-4ebd-bd66-8daaaf059868"
      },
      "outputs": [
        {
          "output_type": "stream",
          "name": "stdout",
          "text": [
            "  Nombre y Apellido   Nro DNI      Materia Escolar  Nota 1er Trimestre  \\\n",
            "0       Ana Sánchez  31900435  Lengua y Literatura                   8   \n",
            "1        Ana García  65827500            Filosofía                   3   \n",
            "2       Laura López  97280117               Física                   3   \n",
            "3        Ana García  71392974           Sociología                   6   \n",
            "4         Ana Pérez  47435097               Física                   5   \n",
            "5          Ana Díaz  24149105             Historia                   3   \n",
            "6   Laura Rodríguez  29788232          Informática                   3   \n",
            "7    María Martínez  24038727            Geografía                   3   \n",
            "8     Pedro Sánchez  66648956            Filosofía                  10   \n",
            "9      Carlos Gómez  64492477     Educación Física                   5   \n",
            "\n",
            "   Nota 2do Trimestre  Nota 3er Trimestre  Faltas a clases  \n",
            "0                   4                   3                0  \n",
            "1                   5                   7               12  \n",
            "2                   8                   7                6  \n",
            "3                   9                   9                0  \n",
            "4                   2                   7               10  \n",
            "5                   5                   7                2  \n",
            "6                   7                  10                8  \n",
            "7                   4                  10                9  \n",
            "8                   6                   1                5  \n",
            "9                  10                   5                3  \n"
          ]
        }
      ],
      "source": [
        "# prompt:  arma un dataframe de al menos 100 filas con datos random con apellido y nombre, nro_dni, materias de educacion nivel secundario de la argentina que contenga las siguientes columnas: materia escolar, nota 1er Trimestre, nota 2do Trimestre, nota 3er Trimestre, Faltas a clases.\n",
        "\n",
        "import pandas as pd\n",
        "import numpy as np\n",
        "import random\n",
        "\n",
        "# Lista de materias escolares de nivel secundario en Argentina\n",
        "materias = [\n",
        "    \"Matemática\", \"Lengua y Literatura\", \"Historia\", \"Geografía\", \"Ciencias Naturales\",\n",
        "    \"Educación Física\", \"Inglés\", \"Física\", \"Química\", \"Biología\", \"Filosofía\", \"Sociología\",\n",
        "    \"Arte\", \"Música\", \"Informática\"\n",
        "]\n",
        "\n",
        "# Función para generar un nombre y apellido aleatorio\n",
        "def generar_nombre_apellido():\n",
        "  nombres = [\"Juan\", \"María\", \"Pedro\", \"Laura\", \"Carlos\", \"Ana\", \"Luis\", \"Sofia\", \"Diego\", \"Valentina\"]\n",
        "  apellidos = [\"Gómez\", \"Pérez\", \"Rodríguez\", \"Fernández\", \"López\", \"García\", \"Martínez\", \"González\", \"Díaz\", \"Sánchez\"]\n",
        "  return random.choice(nombres) + \" \" + random.choice(apellidos)\n",
        "\n",
        "# Función para generar un DNI aleatorio\n",
        "def generar_dni():\n",
        "  return random.randint(10000000, 99999999)\n",
        "\n",
        "# Generar datos para el DataFrame\n",
        "data = []\n",
        "for _ in range(100):\n",
        "  nombre_apellido = generar_nombre_apellido()\n",
        "  dni = generar_dni()\n",
        "  materia = random.choice(materias)\n",
        "  nota_1er_trimestre = random.randint(1, 10)\n",
        "  nota_2do_trimestre = random.randint(1, 10)\n",
        "  nota_3er_trimestre = random.randint(1, 10)\n",
        "  faltas = random.randint(0, 15)\n",
        "\n",
        "  data.append([nombre_apellido, dni, materia, nota_1er_trimestre, nota_2do_trimestre, nota_3er_trimestre, faltas])\n",
        "\n",
        "\n",
        "# Crear el DataFrame\n",
        "df = pd.DataFrame(data, columns=['Nombre y Apellido', 'Nro DNI', 'Materia Escolar', 'Nota 1er Trimestre', 'Nota 2do Trimestre', 'Nota 3er Trimestre', 'Faltas a clases'])\n",
        "\n",
        "# Mostrar las primeras 10 filas del DataFrame\n",
        "print(df.head(10))"
      ]
    }
  ]
}